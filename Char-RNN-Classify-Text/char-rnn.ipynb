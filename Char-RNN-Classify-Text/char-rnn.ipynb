{
 "cells": [
  {
   "cell_type": "code",
   "execution_count": 1,
   "id": "866f7776",
   "metadata": {
    "execution": {
     "iopub.execute_input": "2021-07-10T20:00:19.438602Z",
     "iopub.status.busy": "2021-07-10T20:00:19.437080Z",
     "iopub.status.idle": "2021-07-10T20:00:22.974955Z",
     "shell.execute_reply": "2021-07-10T20:00:22.975372Z",
     "shell.execute_reply.started": "2021-07-10T19:57:11.891972Z"
    },
    "papermill": {
     "duration": 3.551088,
     "end_time": "2021-07-10T20:00:22.975627",
     "exception": false,
     "start_time": "2021-07-10T20:00:19.424539",
     "status": "completed"
    },
    "tags": []
   },
   "outputs": [
    {
     "name": "stdout",
     "output_type": "stream",
     "text": [
      "--2021-07-10 20:00:20--  https://download.pytorch.org/tutorial/data.zip\r\n",
      "Resolving download.pytorch.org (download.pytorch.org)... 13.35.164.117, 13.35.164.26, 13.35.164.89, ...\r\n",
      "Connecting to download.pytorch.org (download.pytorch.org)|13.35.164.117|:443... connected.\r\n",
      "HTTP request sent, awaiting response... 200 OK\r\n",
      "Length: 2882130 (2.7M) [application/zip]\r\n",
      "Saving to: ‘data.zip’\r\n",
      "\r\n",
      "data.zip            100%[===================>]   2.75M  2.23MB/s    in 1.2s    \r\n",
      "\r\n",
      "2021-07-10 20:00:22 (2.23 MB/s) - ‘data.zip’ saved [2882130/2882130]\r\n",
      "\r\n",
      "Archive:  ./data.zip\r\n",
      "   creating: data/\r\n",
      "  inflating: data/eng-fra.txt        \r\n",
      "   creating: data/names/\r\n",
      "  inflating: data/names/Arabic.txt   \r\n",
      "  inflating: data/names/Chinese.txt  \r\n",
      "  inflating: data/names/Czech.txt    \r\n",
      "  inflating: data/names/Dutch.txt    \r\n",
      "  inflating: data/names/English.txt  \r\n",
      "  inflating: data/names/French.txt   \r\n",
      "  inflating: data/names/German.txt   \r\n",
      "  inflating: data/names/Greek.txt    \r\n",
      "  inflating: data/names/Irish.txt    \r\n",
      "  inflating: data/names/Italian.txt  \r\n",
      "  inflating: data/names/Japanese.txt  \r\n",
      "  inflating: data/names/Korean.txt   \r\n",
      "  inflating: data/names/Polish.txt   \r\n",
      "  inflating: data/names/Portuguese.txt  \r\n",
      "  inflating: data/names/Russian.txt  \r\n",
      "  inflating: data/names/Scottish.txt  \r\n",
      "  inflating: data/names/Spanish.txt  \r\n",
      "  inflating: data/names/Vietnamese.txt  \r\n"
     ]
    }
   ],
   "source": [
    "!wget https://download.pytorch.org/tutorial/data.zip\n",
    "!unzip ./data.zip"
   ]
  },
  {
   "cell_type": "code",
   "execution_count": 2,
   "id": "6ed310ac",
   "metadata": {
    "execution": {
     "iopub.execute_input": "2021-07-10T20:00:23.002242Z",
     "iopub.status.busy": "2021-07-10T20:00:23.001545Z",
     "iopub.status.idle": "2021-07-10T20:00:23.004374Z",
     "shell.execute_reply": "2021-07-10T20:00:23.003935Z",
     "shell.execute_reply.started": "2021-07-10T19:57:17.507934Z"
    },
    "papermill": {
     "duration": 0.017003,
     "end_time": "2021-07-10T20:00:23.004477",
     "exception": false,
     "start_time": "2021-07-10T20:00:22.987474",
     "status": "completed"
    },
    "tags": []
   },
   "outputs": [],
   "source": [
    "import sys\n",
    "sys.path.append('../input/char-rnn-classification')"
   ]
  },
  {
   "cell_type": "code",
   "execution_count": 3,
   "id": "ff81870e",
   "metadata": {
    "execution": {
     "iopub.execute_input": "2021-07-10T20:00:23.137255Z",
     "iopub.status.busy": "2021-07-10T20:00:23.136412Z",
     "iopub.status.idle": "2021-07-10T20:00:24.367322Z",
     "shell.execute_reply": "2021-07-10T20:00:24.366794Z",
     "shell.execute_reply.started": "2021-07-10T19:57:19.906911Z"
    },
    "papermill": {
     "duration": 1.352406,
     "end_time": "2021-07-10T20:00:24.367452",
     "exception": false,
     "start_time": "2021-07-10T20:00:23.015046",
     "status": "completed"
    },
    "tags": []
   },
   "outputs": [],
   "source": [
    "from __future__ import unicode_literals, print_function, division\n",
    "import torch\n",
    "from torch import nn\n",
    "from torch import optim\n",
    "import time\n",
    "import matplotlib.pyplot as plt\n",
    "import matplotlib.ticker as ticker\n",
    "\n",
    "from model import RNN\n",
    "from utils import * \n",
    "\n",
    "N_ITERS = 100000\n",
    "PRINT_EVERY = 5000\n",
    "PLOT_EVERY = 1000\n",
    "DEVICE = torch.device('cuda' if torch.cuda.is_available() else 'cpu')\n",
    "N_HIDDEN = 128\n",
    "N_CATEGORIES = None\n",
    "\n",
    "\n",
    "def train_one_epoch(rnn, category_tensor, line_tensor, criterion, optimizer):\n",
    "    hidden = rnn.init_hidden()\n",
    "    hidden = hidden.to(DEVICE)\n",
    "    optimizer.zero_grad()\n",
    "\n",
    "    for i in range(line_tensor.shape[0]):\n",
    "        output, hidden = rnn(line_tensor[i], hidden)\n",
    "\n",
    "    loss = criterion(output, category_tensor)\n",
    "    loss.backward()\n",
    "    optimizer.step()\n",
    "\n",
    "    return output, loss.item()\n",
    "\n",
    "def train(rnn, categories, category_lines, all_losses):\n",
    "    criterion = nn.NLLLoss()\n",
    "    optimizer = optim.Adam(rnn.parameters(), lr=0.0001)\n",
    "\n",
    "    start = time.time()\n",
    "\n",
    "    # Keep track of losses for plotting\n",
    "    current_loss = 0\n",
    "\n",
    "    for iter in range(1, N_ITERS + 1):\n",
    "        category, line, category_tensor, line_tensor = random_training_example(categories, category_lines)\n",
    "        category_tensor = category_tensor.to(DEVICE)\n",
    "        line_tensor = line_tensor.to(DEVICE)\n",
    "        output, loss = train_one_epoch(rnn, category_tensor, line_tensor, criterion, optimizer)\n",
    "        current_loss += loss\n",
    "\n",
    "        # Print iter number, loss, name and guess\n",
    "        if iter % PRINT_EVERY == 0:\n",
    "            guess, guess_i = category_from_output(output, categories)\n",
    "            correct = '✓' if guess == category else '✗ (%s)' % category\n",
    "            print('%d %d%% (%s) %.4f %s / %s %s' % (iter, iter / N_ITERS * 100, time_since(start), loss, line, guess, correct))\n",
    "\n",
    "        # Add current loss avg to list of losses\n",
    "        if iter % PLOT_EVERY == 0:\n",
    "            all_losses.append(current_loss / PLOT_EVERY)\n",
    "            current_loss = 0\n",
    "\n",
    "    torch.save(rnn.state_dict(), 'char-rnn_model.pth')\n",
    "\n",
    "\n",
    "def evaluate(line_tensor):\n",
    "    # Just return an output given a line\n",
    "    rnn = RNN(UNIQUE_CHARS, N_HIDDEN, N_CATEGORIES)\n",
    "    hidden = rnn.init_hidden()\n",
    "    rnn.load_state_dict(torch.load('char-rnn_model.pth'))\n",
    "    rnn.eval()\n",
    "    for i in range(line_tensor.size()[0]):\n",
    "        output, hidden = rnn(line_tensor[i], hidden)\n",
    "\n",
    "    return output\n",
    "\n",
    "def plot_confusion_matrix(categories, category_lines):\n",
    "    # Keep track of correct guesses in a confusion matrix\n",
    "    confusion = torch.zeros(N_CATEGORIES, N_CATEGORIES)\n",
    "    n_confusion = 10000\n",
    "    # Go through a bunch of examples and record which are correctly guessed\n",
    "    for i in range(n_confusion):\n",
    "        category, line, category_tensor, line_tensor = random_training_example(categories, category_lines)\n",
    "        output = evaluate(line_tensor)\n",
    "        guess, guess_i = category_from_output(output, categories)\n",
    "        category_i = categories.index(category)\n",
    "        confusion[category_i][guess_i] += 1\n",
    "\n",
    "    # Normalize by dividing every row by its sum\n",
    "    for i in range(N_CATEGORIES):\n",
    "        confusion[i] = confusion[i] / confusion[i].sum()\n",
    "\n",
    "    # Set up plot\n",
    "    fig = plt.figure()\n",
    "    ax = fig.add_subplot(111)\n",
    "    cax = ax.matshow(confusion.numpy())\n",
    "    fig.colorbar(cax)\n",
    "\n",
    "    # Set up axes\n",
    "    ax.set_xticklabels([''] + categories, rotation=90)\n",
    "    ax.set_yticklabels([''] + categories)\n",
    "\n",
    "    # Force label at every tick\n",
    "    ax.xaxis.set_major_locator(ticker.MultipleLocator(1))\n",
    "    ax.yaxis.set_major_locator(ticker.MultipleLocator(1))\n",
    "\n",
    "    # sphinx_gallery_thumbnail_number = 2\n",
    "    plt.show()\n",
    "\n",
    "\n",
    "def predict(input_line, categories, n_predictions=3):\n",
    "    print('\\n> %s' % input_line)\n",
    "    with torch.no_grad():\n",
    "        output = evaluate(line_to_tensor(input_line))\n",
    "\n",
    "        # Get top N categories\n",
    "        topv, topi = output.topk(n_predictions, 1, True)\n",
    "        predictions = []\n",
    "\n",
    "        for i in range(n_predictions):\n",
    "            value = topv[0][i].item()\n",
    "            category_index = topi[0][i].item()\n",
    "            print('(%.2f) %s' % (value, categories[category_index]))\n",
    "            predictions.append([value, categories[category_index]])"
   ]
  },
  {
   "cell_type": "code",
   "execution_count": 4,
   "id": "c29585b8",
   "metadata": {
    "execution": {
     "iopub.execute_input": "2021-07-10T20:00:24.395069Z",
     "iopub.status.busy": "2021-07-10T20:00:24.394465Z",
     "iopub.status.idle": "2021-07-10T20:00:24.471870Z",
     "shell.execute_reply": "2021-07-10T20:00:24.471388Z",
     "shell.execute_reply.started": "2021-07-10T19:57:28.765942Z"
    },
    "papermill": {
     "duration": 0.092785,
     "end_time": "2021-07-10T20:00:24.472005",
     "exception": false,
     "start_time": "2021-07-10T20:00:24.379220",
     "status": "completed"
    },
    "tags": []
   },
   "outputs": [],
   "source": [
    "categories, category_lines = get_data('data/names/*.txt')\n",
    "N_CATEGORIES = len(categories)\n",
    "all_losses = []"
   ]
  },
  {
   "cell_type": "code",
   "execution_count": 5,
   "id": "c5b3b14a",
   "metadata": {
    "execution": {
     "iopub.execute_input": "2021-07-10T20:00:24.509135Z",
     "iopub.status.busy": "2021-07-10T20:00:24.508422Z",
     "iopub.status.idle": "2021-07-10T20:00:28.474855Z",
     "shell.execute_reply": "2021-07-10T20:00:28.474378Z",
     "shell.execute_reply.started": "2021-07-10T19:57:29.917640Z"
    },
    "papermill": {
     "duration": 3.989285,
     "end_time": "2021-07-10T20:00:28.474992",
     "exception": false,
     "start_time": "2021-07-10T20:00:24.485707",
     "status": "completed"
    },
    "tags": []
   },
   "outputs": [],
   "source": [
    "rnn = RNN(UNIQUE_CHARS, N_HIDDEN, N_CATEGORIES)\n",
    "rnn = rnn.to(DEVICE)"
   ]
  },
  {
   "cell_type": "code",
   "execution_count": 6,
   "id": "b8a29f9d",
   "metadata": {
    "execution": {
     "iopub.execute_input": "2021-07-10T20:00:28.500898Z",
     "iopub.status.busy": "2021-07-10T20:00:28.500270Z",
     "iopub.status.idle": "2021-07-10T20:05:06.186654Z",
     "shell.execute_reply": "2021-07-10T20:05:06.187087Z",
     "shell.execute_reply.started": "2021-07-10T19:57:53.492201Z"
    },
    "papermill": {
     "duration": 277.701044,
     "end_time": "2021-07-10T20:05:06.187253",
     "exception": false,
     "start_time": "2021-07-10T20:00:28.486209",
     "status": "completed"
    },
    "tags": []
   },
   "outputs": [
    {
     "name": "stdout",
     "output_type": "stream",
     "text": [
      "5000 5% (0m 14s) 2.7767 Escott / German ✗ (English)\n",
      "10000 10% (0m 28s) 2.6317 Matocha / Japanese ✗ (Czech)\n",
      "15000 15% (0m 42s) 1.9328 Hebert / French ✓\n",
      "20000 20% (0m 56s) 2.4165 Michel / Czech ✗ (French)\n",
      "25000 25% (1m 9s) 2.1698 Gomes / Dutch ✗ (Portuguese)\n",
      "30000 30% (1m 23s) 2.6775 Durber / German ✗ (English)\n",
      "35000 35% (1m 37s) 2.2070 Walker / Dutch ✗ (Scottish)\n",
      "40000 40% (1m 51s) 2.2349 Mayer / Arabic ✗ (Czech)\n",
      "45000 45% (2m 5s) 0.6696 Salvatici / Italian ✓\n",
      "50000 50% (2m 19s) 0.8627 Matsuya / Japanese ✓\n",
      "55000 55% (2m 33s) 0.6401 Maroun / Arabic ✓\n",
      "60000 60% (2m 46s) 2.0743 Pettigrew / Dutch ✗ (French)\n",
      "65000 65% (3m 1s) 2.3910 Malecha / Portuguese ✗ (Czech)\n",
      "70000 70% (3m 15s) 3.0708 Norris / Portuguese ✗ (English)\n",
      "75000 75% (3m 28s) 0.1529 Takabe / Japanese ✓\n",
      "80000 80% (3m 42s) 0.3688 Albanesi / Italian ✓\n",
      "85000 85% (3m 56s) 0.8456 Schroeter / German ✓\n",
      "90000 90% (4m 10s) 3.9954 Tsoumada / Japanese ✗ (Greek)\n",
      "95000 95% (4m 23s) 0.8306 Sneiders / Dutch ✓\n",
      "100000 100% (4m 37s) 4.6877 Gravari / Italian ✗ (Greek)\n"
     ]
    }
   ],
   "source": [
    "train(rnn, categories, category_lines, all_losses)"
   ]
  },
  {
   "cell_type": "code",
   "execution_count": 7,
   "id": "ed506843",
   "metadata": {
    "execution": {
     "iopub.execute_input": "2021-07-10T20:05:06.239166Z",
     "iopub.status.busy": "2021-07-10T20:05:06.238328Z",
     "iopub.status.idle": "2021-07-10T20:05:06.363734Z",
     "shell.execute_reply": "2021-07-10T20:05:06.364266Z",
     "shell.execute_reply.started": "2021-07-10T19:58:08.488136Z"
    },
    "papermill": {
     "duration": 0.161123,
     "end_time": "2021-07-10T20:05:06.364419",
     "exception": false,
     "start_time": "2021-07-10T20:05:06.203296",
     "status": "completed"
    },
    "tags": []
   },
   "outputs": [
    {
     "data": {
      "image/png": "[encoded data removed]",
      "text/plain": [
       "<Figure size 432x288 with 1 Axes>"
      ]
     },
     "metadata": {
      "needs_background": "light"
     },
     "output_type": "display_data"
    }
   ],
   "source": [
    "plot_loss(all_losses)"
   ]
  },
  {
   "cell_type": "code",
   "execution_count": 8,
   "id": "819aa3ff",
   "metadata": {
    "execution": {
     "iopub.execute_input": "2021-07-10T20:05:06.402288Z",
     "iopub.status.busy": "2021-07-10T20:05:06.401472Z",
     "iopub.status.idle": "2021-07-10T20:05:30.135109Z",
     "shell.execute_reply": "2021-07-10T20:05:30.134404Z",
     "shell.execute_reply.started": "2021-07-10T19:58:08.806230Z"
    },
    "papermill": {
     "duration": 23.753629,
     "end_time": "2021-07-10T20:05:30.135294",
     "exception": false,
     "start_time": "2021-07-10T20:05:06.381665",
     "status": "completed"
    },
    "tags": []
   },
   "outputs": [
    {
     "name": "stderr",
     "output_type": "stream",
     "text": [
      "/opt/conda/lib/python3.7/site-packages/ipykernel_launcher.py:98: UserWarning: FixedFormatter should only be used together with FixedLocator\n",
      "/opt/conda/lib/python3.7/site-packages/ipykernel_launcher.py:99: UserWarning: FixedFormatter should only be used together with FixedLocator\n"
     ]
    },
    {
     "data": {
      "image/png": "[encoded data removed]",
      "text/plain": [
       "<Figure size 432x288 with 2 Axes>"
      ]
     },
     "metadata": {
      "needs_background": "light"
     },
     "output_type": "display_data"
    }
   ],
   "source": [
    "plot_confusion_matrix(categories, category_lines)"
   ]
  },
  {
   "cell_type": "code",
   "execution_count": 9,
   "id": "0d2a3b68",
   "metadata": {
    "_cell_guid": "b1076dfc-b9ad-4769-8c92-a6c4dae69d19",
    "_uuid": "8f2839f25d086af736a60e9eeb907d3b93b6e0e5",
    "execution": {
     "iopub.execute_input": "2021-07-10T20:05:30.177433Z",
     "iopub.status.busy": "2021-07-10T20:05:30.176683Z",
     "iopub.status.idle": "2021-07-10T20:05:30.190639Z",
     "shell.execute_reply": "2021-07-10T20:05:30.191293Z",
     "shell.execute_reply.started": "2021-07-10T19:58:33.859716Z"
    },
    "papermill": {
     "duration": 0.036176,
     "end_time": "2021-07-10T20:05:30.191473",
     "exception": false,
     "start_time": "2021-07-10T20:05:30.155297",
     "status": "completed"
    },
    "tags": []
   },
   "outputs": [
    {
     "name": "stdout",
     "output_type": "stream",
     "text": [
      "\n",
      "> Dovesky\n",
      "(-0.61) Russian\n",
      "(-1.27) Czech\n",
      "(-2.83) English\n",
      "\n",
      "> Jackson\n",
      "(-0.39) Scottish\n",
      "(-1.71) English\n",
      "(-2.52) Russian\n",
      "\n",
      "> Satoshi\n",
      "(-1.41) Italian\n",
      "(-1.47) Arabic\n",
      "(-1.77) Japanese\n"
     ]
    }
   ],
   "source": [
    "predict('Dovesky', categories)\n",
    "predict('Jackson', categories)\n",
    "predict('Satoshi', categories)"
   ]
  },
  {
   "cell_type": "code",
   "execution_count": null,
   "id": "f30ae6c5",
   "metadata": {
    "papermill": {
     "duration": 0.031871,
     "end_time": "2021-07-10T20:05:30.241911",
     "exception": false,
     "start_time": "2021-07-10T20:05:30.210040",
     "status": "completed"
    },
    "tags": []
   },
   "outputs": [],
   "source": []
  }
 ],
 "metadata": {
  "kernelspec": {
   "display_name": "Python 3",
   "language": "python",
   "name": "python3"
  },
  "language_info": {
   "codemirror_mode": {
    "name": "ipython",
    "version": 3
   },
   "file_extension": ".py",
   "mimetype": "text/x-python",
   "name": "python",
   "nbconvert_exporter": "python",
   "pygments_lexer": "ipython3",
   "version": "3.8.10"
  },
  "papermill": {
   "default_parameters": {},
   "duration": 318.706315,
   "end_time": "2021-07-10T20:05:31.571586",
   "environment_variables": {},
   "exception": null,
   "input_path": "__notebook__.ipynb",
   "output_path": "__notebook__.ipynb",
   "parameters": {},
   "start_time": "2021-07-10T20:00:12.865271",
   "version": "2.3.3"
  }
 },
 "nbformat": 4,
 "nbformat_minor": 5
}
